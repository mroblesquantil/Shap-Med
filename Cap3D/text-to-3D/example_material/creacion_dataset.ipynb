{
 "cells": [
  {
   "cell_type": "code",
   "execution_count": 15,
   "metadata": {},
   "outputs": [],
   "source": [
    "import pandas as pd\n",
    "import pickle\n",
    "import numpy as np"
   ]
  },
  {
   "cell_type": "code",
   "execution_count": 16,
   "metadata": {},
   "outputs": [],
   "source": [
    "df = pd.DataFrame()\n",
    "df['id'] = [f'a{i}' for i in range(100)]\n",
    "df['prompt'] = 'human liver'\n",
    "df.to_csv('human_livers.csv', header = False, index = None)"
   ]
  },
  {
   "cell_type": "code",
   "execution_count": 20,
   "metadata": {},
   "outputs": [],
   "source": [
    "training = [f'a{i}' for i in list(range(70))]\n",
    "testing = [f'a{i}' for i in  list(range(70,85))]\n",
    "validation = [f'a{i}' for i in list(range(85,100))]\n",
    "\n",
    "with open('testing_human_liver.pkl', 'wb') as file:\n",
    "    pickle.dump(testing, file=file)\n",
    "\n",
    "with open('training_human_liver.pkl', 'wb') as file:\n",
    "    pickle.dump(training, file=file)\n",
    "\n",
    "with open('validation_human_liver.pkl', 'wb') as file:\n",
    "    pickle.dump(validation, file=file)"
   ]
  },
  {
   "cell_type": "code",
   "execution_count": 19,
   "metadata": {},
   "outputs": [],
   "source": [
    "import torch\n",
    "\n",
    "pt = torch.load('../HumanLiver/latent.pt', map_location=torch.device('cpu'))\n",
    "\n",
    "for i in range(100):\n",
    "    torch.save(pt,f'../HumanLiver/a{i}.pt')"
   ]
  },
  {
   "cell_type": "code",
   "execution_count": null,
   "metadata": {},
   "outputs": [],
   "source": []
  }
 ],
 "metadata": {
  "kernelspec": {
   "display_name": "env_scRNA",
   "language": "python",
   "name": "python3"
  },
  "language_info": {
   "codemirror_mode": {
    "name": "ipython",
    "version": 3
   },
   "file_extension": ".py",
   "mimetype": "text/x-python",
   "name": "python",
   "nbconvert_exporter": "python",
   "pygments_lexer": "ipython3",
   "version": "3.11.0"
  }
 },
 "nbformat": 4,
 "nbformat_minor": 2
}
